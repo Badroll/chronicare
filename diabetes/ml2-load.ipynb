{
 "cells": [
  {
   "cell_type": "code",
   "execution_count": 1,
   "metadata": {},
   "outputs": [],
   "source": [
    "import tensorflow as tf\n",
    "import pandas as pd\n",
    "import matplotlib.pyplot as plt\n",
    "import numpy as np\n",
    "from sklearn.model_selection import train_test_split\n",
    "import matplotlib.pyplot as plt\n",
    "from tensorflow.keras.models import load_model\n",
    "import json"
   ]
  },
  {
   "cell_type": "code",
   "execution_count": 12,
   "metadata": {},
   "outputs": [
    {
     "name": "stdout",
     "output_type": "stream",
     "text": [
      "1/1 [==============================] - 0s 48ms/step\n",
      "[[0.00012622]]\n",
      "0.01 %\n",
      "99.99 %\n"
     ]
    }
   ],
   "source": [
    "model = load_model(\"diabetes.h5\")\n",
    "arr = [\n",
    "    67,\t1,\t1,\t0,\t0,\t1,\t1,\t1\n",
    "\n",
    "\n",
    "]\n",
    "new_data_dict = {'age':[arr[0]],'gender':[arr[1]],'polyuria':[arr[2]],'polydipsia':[arr[3]],'sudden_weight_loss':[arr[4]],'polyphagia':[arr[5]],'delayed_healing':[arr[6]],'obesity':[arr[7]]\n",
    "}\n",
    "data = json.load(open('diabetes.json'))\n",
    "new_data = pd.DataFrame(new_data_dict)\n",
    "new_data['age'] = (new_data['age'] - data[\"age_min\"]) / (data[\"age_max\"] - data[\"age_min\"])\n",
    "predictions = model.predict(new_data)\n",
    "print(predictions)\n",
    "probabilities_positive_class = predictions[:, 0]\n",
    "probabilities_negative_class = 1 - probabilities_positive_class\n",
    "confident_percent_positive_class = probabilities_positive_class * 100\n",
    "confident_percent_negative_class = probabilities_negative_class * 100\n",
    "confident_p = str(round(confident_percent_positive_class.tolist()[0], 2)) + \" %\"\n",
    "confident_n = str(round(confident_percent_negative_class.tolist()[0], 2)) + \" %\"\n",
    "\n",
    "print(confident_p)\n",
    "print(confident_n)"
   ]
  },
  {
   "cell_type": "code",
   "execution_count": 5,
   "metadata": {},
   "outputs": [
    {
     "name": "stdout",
     "output_type": "stream",
     "text": [
      "1/1 [==============================] - 0s 48ms/step\n",
      "[[1.0356707e-06]]\n",
      "[[0]]\n"
     ]
    }
   ],
   "source": [
    "dataNew = [[\n",
    "    0.37837838, 1.        , 1.        , 0.        , 1.        ,\n",
    "        0.        , 1.        , 1.                                                                                                  \n",
    "]]\n",
    "\n",
    "dataNew = np.array(dataNew)\n",
    "\n",
    "predictions = model.predict(dataNew)\n",
    "print(predictions)\n",
    "binary_predictions = (predictions > 0.5).astype(int)\n",
    "print(binary_predictions)"
   ]
  }
 ],
 "metadata": {
  "kernelspec": {
   "display_name": "venv",
   "language": "python",
   "name": "python3"
  },
  "language_info": {
   "codemirror_mode": {
    "name": "ipython",
    "version": 3
   },
   "file_extension": ".py",
   "mimetype": "text/x-python",
   "name": "python",
   "nbconvert_exporter": "python",
   "pygments_lexer": "ipython3",
   "version": "3.8.0"
  },
  "orig_nbformat": 4
 },
 "nbformat": 4,
 "nbformat_minor": 2
}
