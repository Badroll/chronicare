{
 "cells": [
  {
   "cell_type": "code",
   "execution_count": 1,
   "metadata": {},
   "outputs": [],
   "source": [
    "import tensorflow as tf\n",
    "import pandas as pd\n",
    "import matplotlib.pyplot as plt\n",
    "import numpy as np\n",
    "from sklearn.model_selection import train_test_split"
   ]
  },
  {
   "cell_type": "code",
   "execution_count": 2,
   "metadata": {},
   "outputs": [],
   "source": [
    "train_file_path = tf.keras.utils.get_file(fname=None, origin=f'file:///D:/python/fkes/dataset/diabetes.csv', extract=True)"
   ]
  },
  {
   "cell_type": "code",
   "execution_count": 3,
   "metadata": {},
   "outputs": [],
   "source": [
    "def get_dataset(file_path, **kwargs):\n",
    "    dataset = tf.data.experimental.make_csv_dataset(\n",
    "        file_path,\n",
    "        batch_size = 5,\n",
    "        na_value = '?',\n",
    "        num_epochs=1,\n",
    "        ignore_errors=True,\n",
    "        **kwargs\n",
    "    )\n",
    "    return dataset"
   ]
  },
  {
   "cell_type": "code",
   "execution_count": 5,
   "metadata": {},
   "outputs": [
    {
     "data": {
      "text/plain": [
       "<_PrefetchDataset element_spec=OrderedDict([('\\ufeffage', TensorSpec(shape=(None,), dtype=tf.int32, name=None)), ('gender', TensorSpec(shape=(None,), dtype=tf.string, name=None)), ('polyuria', TensorSpec(shape=(None,), dtype=tf.int32, name=None)), ('polydipsia', TensorSpec(shape=(None,), dtype=tf.int32, name=None)), ('sudden_weight_loss', TensorSpec(shape=(None,), dtype=tf.int32, name=None)), ('polyphagia', TensorSpec(shape=(None,), dtype=tf.int32, name=None)), ('delayed_healing', TensorSpec(shape=(None,), dtype=tf.int32, name=None)), ('obesity', TensorSpec(shape=(None,), dtype=tf.int32, name=None)), ('class', TensorSpec(shape=(None,), dtype=tf.int32, name=None))])>"
      ]
     },
     "execution_count": 5,
     "metadata": {},
     "output_type": "execute_result"
    }
   ],
   "source": [
    "raw_train_data = get_dataset(train_file_path)\n",
    "raw_train_data"
   ]
  },
  {
   "cell_type": "code",
   "execution_count": null,
   "metadata": {},
   "outputs": [],
   "source": []
  }
 ],
 "metadata": {
  "kernelspec": {
   "display_name": "Python 3",
   "language": "python",
   "name": "python3"
  },
  "language_info": {
   "codemirror_mode": {
    "name": "ipython",
    "version": 3
   },
   "file_extension": ".py",
   "mimetype": "text/x-python",
   "name": "python",
   "nbconvert_exporter": "python",
   "pygments_lexer": "ipython3",
   "version": "3.10.6"
  },
  "orig_nbformat": 4
 },
 "nbformat": 4,
 "nbformat_minor": 2
}
